{
 "cells": [
  {
   "cell_type": "code",
   "execution_count": 1,
   "metadata": {
    "collapsed": true
   },
   "outputs": [],
   "source": [
    "import numpy as np\n",
    "import tables as tab"
   ]
  },
  {
   "cell_type": "markdown",
   "metadata": {},
   "source": [
    "### Openning"
   ]
  },
  {
   "cell_type": "code",
   "execution_count": 2,
   "metadata": {
    "collapsed": false
   },
   "outputs": [],
   "source": [
    "h5file=tab.open_file(\"NuFATECrossSections.h5\", mode = \"w\", title = \"Cross sections tables\")"
   ]
  },
  {
   "cell_type": "markdown",
   "metadata": {},
   "source": [
    "### Differential cross sections"
   ]
  },
  {
   "cell_type": "code",
   "execution_count": 3,
   "metadata": {
    "collapsed": false
   },
   "outputs": [],
   "source": [
    "dsx=h5file.create_group(h5file.root,\"differential_cross_sections\",\"Differential cross sections\")\n",
    "dsx._v_attrs.number_energy_nodes=200\n",
    "dsx._v_attrs.min_energy=1.0e3\n",
    "dsx._v_attrs.max_energy=1.0e10\n",
    "dsx._v_attrs.energy_unit=\"GeV\"\n",
    "dsx._v_attrs.cross_section_unit=\"cm^2\""
   ]
  },
  {
   "cell_type": "code",
   "execution_count": 4,
   "metadata": {
    "collapsed": false
   },
   "outputs": [],
   "source": [
    "dxsnu=np.genfromtxt(\"./dxsnu.dat\")\n",
    "h5file.create_array(dsx,\"dxsnu\",dxsnu,title=\"Neutrino differential cross section\");"
   ]
  },
  {
   "cell_type": "code",
   "execution_count": 5,
   "metadata": {
    "collapsed": false
   },
   "outputs": [],
   "source": [
    "dxsnubar=np.genfromtxt(\"./dxsnubar.dat\")\n",
    "h5file.create_array(dsx,\"dxsnubar\",dxsnu,title=\"Antieutrino differential cross section\");"
   ]
  },
  {
   "cell_type": "markdown",
   "metadata": {},
   "source": [
    "### Total cross sections"
   ]
  },
  {
   "cell_type": "code",
   "execution_count": 6,
   "metadata": {
    "collapsed": false
   },
   "outputs": [],
   "source": [
    "sx=h5file.create_group(h5file.root,\"total_cross_sections\",\"Total cross sections\")\n",
    "sx._v_attrs.number_energy_nodes=200\n",
    "sx._v_attrs.min_energy=1.0e3\n",
    "sx._v_attrs.max_energy=1.0e10\n",
    "sx._v_attrs.energy_unit=\"GeV\"\n",
    "sx._v_attrs.cross_section_unit=\"cm^2\""
   ]
  },
  {
   "cell_type": "code",
   "execution_count": 7,
   "metadata": {
    "collapsed": true
   },
   "outputs": [],
   "source": [
    "nuexs=np.genfromtxt(\"./nuexs.dat\")\n",
    "h5file.create_array(sx,\"nuexs\",nuexs,title=\"Neutrino total nue cross section\");\n",
    "\n",
    "numuxs=np.genfromtxt(\"./numuxs.dat\")\n",
    "h5file.create_array(sx,\"numuxs\",numuxs,title=\"Neutrino total numu cross section\");\n",
    "\n",
    "nutauxs=np.genfromtxt(\"./nutauxs.dat\")\n",
    "h5file.create_array(sx,\"nutauxs\",nutauxs,title=\"Neutrino total nutau cross section\");"
   ]
  },
  {
   "cell_type": "code",
   "execution_count": 8,
   "metadata": {
    "collapsed": false
   },
   "outputs": [],
   "source": [
    "nuebarxs=np.genfromtxt(\"./nuebarxs.dat\")\n",
    "h5file.create_array(sx,\"nuebarxs\",nutauxs,title=\"Antineutrino total nue cross section\");\n",
    "\n",
    "numubarxs=np.genfromtxt(\"./numubarxs.dat\")\n",
    "h5file.create_array(sx,\"numubarxs\",numubarxs,title=\"Antineutrino total numu cross section\");\n",
    "\n",
    "nutaubarxs=np.genfromtxt(\"./nutaubarxs.dat\")\n",
    "h5file.create_array(sx,\"nutaubarxs\",nutaubarxs,title=\"Antineutrino total nutau cross section\");"
   ]
  },
  {
   "cell_type": "markdown",
   "metadata": {},
   "source": [
    "### Tau decay spectrum"
   ]
  },
  {
   "cell_type": "code",
   "execution_count": 9,
   "metadata": {
    "collapsed": true
   },
   "outputs": [],
   "source": [
    "tx=h5file.create_group(h5file.root,\"tau_decay_spectrum\",\"Tau decay information\")\n",
    "tx._v_attrs.number_energy_nodes=200\n",
    "tx._v_attrs.min_energy=1.0e3\n",
    "tx._v_attrs.max_energy=1.0e10\n",
    "tx._v_attrs.energy_unit=\"GeV\"\n",
    "tx._v_attrs.cross_section_unit=\"cm^2\""
   ]
  },
  {
   "cell_type": "code",
   "execution_count": 10,
   "metadata": {
    "collapsed": true
   },
   "outputs": [],
   "source": [
    "tfull=np.genfromtxt(\"./tfull.dat\")\n",
    "h5file.create_array(tx,\"tfull\",tfull,title=\"Tau spectrum to all particles\");\n",
    "\n",
    "tbarfull=np.genfromtxt(\"./tbarfull.dat\")\n",
    "h5file.create_array(tx,\"tbarfull\",tbarfull,title=\"Taubar spectrum to all particles\");"
   ]
  },
  {
   "cell_type": "code",
   "execution_count": 11,
   "metadata": {
    "collapsed": true
   },
   "outputs": [],
   "source": [
    "secfull=np.genfromtxt(\"./secfull.dat\")\n",
    "h5file.create_array(tx,\"secfull\",secfull,title=\"Tau spectrum to secondary leptons\");\n",
    "\n",
    "secbarfull=np.genfromtxt(\"./secbarfull.dat\")\n",
    "h5file.create_array(tx,\"secbarfull\",secbarfull,title=\"Taubar spectrum to secondary leptons\");"
   ]
  },
  {
   "cell_type": "markdown",
   "metadata": {},
   "source": [
    "### Closing"
   ]
  },
  {
   "cell_type": "code",
   "execution_count": 12,
   "metadata": {
    "collapsed": true
   },
   "outputs": [],
   "source": [
    "h5file.close()"
   ]
  }
 ],
 "metadata": {
  "kernelspec": {
   "display_name": "Python 2",
   "language": "python",
   "name": "python2"
  },
  "language_info": {
   "codemirror_mode": {
    "name": "ipython",
    "version": 2
   },
   "file_extension": ".py",
   "mimetype": "text/x-python",
   "name": "python",
   "nbconvert_exporter": "python",
   "pygments_lexer": "ipython2",
   "version": "2.7.10"
  }
 },
 "nbformat": 4,
 "nbformat_minor": 2
}
